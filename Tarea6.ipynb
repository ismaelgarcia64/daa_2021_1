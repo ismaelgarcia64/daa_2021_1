{
  "nbformat": 4,
  "nbformat_minor": 0,
  "metadata": {
    "colab": {
      "name": "Tarea6.ipynb",
      "provenance": [],
      "collapsed_sections": [],
      "authorship_tag": "ABX9TyPGG4IR6j4XaieLoCHuwRRX",
      "include_colab_link": true
    },
    "kernelspec": {
      "name": "python3",
      "display_name": "Python 3"
    }
  },
  "cells": [
    {
      "cell_type": "markdown",
      "metadata": {
        "id": "view-in-github",
        "colab_type": "text"
      },
      "source": [
        "<a href=\"https://colab.research.google.com/github/ismaelgarcia64/daa_2021_1/blob/master/Tarea6.ipynb\" target=\"_parent\"><img src=\"https://colab.research.google.com/assets/colab-badge.svg\" alt=\"Open In Colab\"/></a>"
      ]
    },
    {
      "cell_type": "code",
      "metadata": {
        "colab": {
          "base_uri": "https://localhost:8080/"
        },
        "id": "jvaAYeeG3KLj",
        "outputId": "1e55ac54-e29e-4040-f74e-807b1472c4fd"
      },
      "source": [
        "import re, string\n",
        "frase = \"El lema que anima a la Universidad Nacional, Por mi raza hablará el espíritu, revela la vocación humanística con la que fue concebida. El autor de esta célebre frase, José Vasconcelos, asumió la rectoría en 1920, en una época en que las esperanzas de la Revolución aún estaban vivas, había una gran fe en la Patria y el ánimo redentor se extendía en el ambiente.\"\n",
        "re.sub(re.escape(string.punctuation), ' ', frase)\n",
        "frase= frase.replace(\"Á\", \"A\")\n",
        "frase= frase.replace(\"á\", \"a\")\n",
        "\n",
        "frase= frase.replace(\"É\", \"E\") \n",
        "frase= frase.replace(\"é\",\"e\")\n",
        "\n",
        "frase= frase.replace(\"Í\", \"I\")\n",
        "frase= frase.replace(\"í\", \"i\")\n",
        "\n",
        "frase= frase.replace(\"Ó\", \"O\")\n",
        "frase= frase.replace(\"ó\",\"o\")\n",
        "\n",
        "frase= frase.replace(\"Ú\", \"U\")\n",
        "frase= frase.replace(\"ú\",\"u\")\n",
        "\n",
        "frase=frase.lower()\n",
        "palabra = frase.split(\" \")\n",
        "palabras = dict()\n",
        "\n",
        "for p in palabra:\n",
        "    palabras[p] = palabras.get(p, 0) + 1 \n",
        "print(palabras)"
      ],
      "execution_count": 4,
      "outputs": [
        {
          "output_type": "stream",
          "text": [
            "{'el': 5, 'lema': 1, 'que': 3, 'anima': 1, 'a': 1, 'la': 6, 'universidad': 1, 'nacional,': 1, 'por': 1, 'mi': 1, 'raza': 1, 'hablara': 1, 'espiritu,': 1, 'revela': 1, 'vocacion': 1, 'humanistica': 1, 'con': 1, 'fue': 1, 'concebida.': 1, 'autor': 1, 'de': 2, 'esta': 1, 'celebre': 1, 'frase,': 1, 'jose': 1, 'vasconcelos,': 1, 'asumio': 1, 'rectoria': 1, 'en': 5, '1920,': 1, 'una': 2, 'epoca': 1, 'las': 1, 'esperanzas': 1, 'revolucion': 1, 'aun': 1, 'estaban': 1, 'vivas,': 1, 'habia': 1, 'gran': 1, 'fe': 1, 'patria': 1, 'y': 1, 'animo': 1, 'redentor': 1, 'se': 1, 'extendia': 1, 'ambiente.': 1}\n"
          ],
          "name": "stdout"
        }
      ]
    }
  ]
}