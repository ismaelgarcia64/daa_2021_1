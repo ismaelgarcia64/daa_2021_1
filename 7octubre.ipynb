{
  "nbformat": 4,
  "nbformat_minor": 0,
  "metadata": {
    "colab": {
      "name": "7octubre.ipynb",
      "provenance": [],
      "collapsed_sections": [],
      "authorship_tag": "ABX9TyNuASVhgNOxlqlrkwH+3rFb",
      "include_colab_link": true
    },
    "kernelspec": {
      "name": "python3",
      "display_name": "Python 3"
    }
  },
  "cells": [
    {
      "cell_type": "markdown",
      "metadata": {
        "id": "view-in-github",
        "colab_type": "text"
      },
      "source": [
        "<a href=\"https://colab.research.google.com/github/ismaelgarcia64/daa_2021_1/blob/master/7octubre.ipynb\" target=\"_parent\"><img src=\"https://colab.research.google.com/assets/colab-badge.svg\" alt=\"Open In Colab\"/></a>"
      ]
    },
    {
      "cell_type": "markdown",
      "metadata": {
        "id": "KlCu_uxYS31u"
      },
      "source": [
        "#Busqueda líneal\n",
        "\n",
        "Dado un con junto de datos, la busqueda linealconsiste en recorrer el conjunto de datos desde el inicio al final, moviendo de uno en uno hasta encontrar el elemento o llegar al final del conjunto.\n",
        "\n",
        "\n",
        "datos = [ 4,18,47,2,34,14,78,12,48,21,31,19,1,3,5]\n",
        "\n",
        "#Busqueda binaria\n",
        "finciona sobre un conjunto de datos lineal ordenado.\n",
        "Consiste y dividir el conjunto en mitades y buscar en esa mitad. Si el elemento esta a la derecha o la iquierda haces la lista igual a la mitad correspondiente y repites el proceso\n",
        "\n",
        "L=[1,2,3,4,5,12,14,18,19,21,31,,34,47,48,78]\n",
        "\n",
        "DER= longitud(L)-1\n",
        "IZQ = D\n",
        "\n",
        "MID = 0\n",
        "\n",
        "MID apuntara a la mitad del segmento de busqueda\n",
        "buscado: es el valor a buscar\n",
        "\n",
        "Pasos\n",
        "1. Hacer DER = longitud(L)-1\n",
        "2. HACER IZQ = 0\n",
        "3. Si IZQ es mayor que DER significa que hay un error en los datos\n",
        "4. Calcular MID = int ((IZQ + DER)/2)\n",
        "5. Mientras L en la posicion MID sea direferente a buscado hacer\n",
        "   L(MID) != buscado hacer\n",
        "6.       preguntar se  L(MID) es mayor a buscado\n",
        "                  hacer DER = MID\n",
        "        de lo contrario\n",
        "                  hacer IZQ=MID\n",
        "        preguntar si (DER-IZQ)%2\n",
        "                  MID = (IZQ+((DER-IZQ)/2)+1\n",
        "        de lo contrario\n",
        "                  MID = IZQ+((DER-IZQ) / 2) \n",
        "7. Regresar MID\n",
        "            rturn MID         "
      ]
    },
    {
      "cell_type": "code",
      "metadata": {
        "id": "FZQlQTezSlih",
        "outputId": "22b172c6-eeab-447a-e089-f1a9465a1efd",
        "colab": {
          "base_uri": "https://localhost:8080/",
          "height": 135
        }
      },
      "source": [
        "\"\"\"\n",
        "busqueda lineal \n",
        "regresa la posicion del elemento  \" buscado \" si se encuentra dentro de la lista \n",
        "regresa -1 si el elemento buscado no existe dentro de la lista \n",
        "\"\"\"\n",
        "\n",
        "def busq_lineal (L, buscado):\n",
        "    indice=-1\n",
        "    contador= 0\n",
        "\n",
        "    for idx in range(len(L)): \"\"\"de 0 al tamaño de la lista\"\"\"\n",
        "     if L[idx] == buscado:\n",
        "        indice = idx\n",
        "        break\n",
        "    print(f\"numero de comparaciones realizadas= {contador}\")       \n",
        "    return indice\n",
        "\n",
        "\"\"\"\n",
        "Busqueda Binaria\n",
        "\"\"\"\n",
        "\n",
        "def busqueda_binaria(L , buscado):\n",
        "    IZQ = 0\n",
        "    DER = len(L)-1\n",
        "    MID = int((IZQ + DER)/2)\n",
        "    if len(L) %2 == 0:\n",
        "      MID = (DER//2)+1\n",
        "    else:\n",
        "      MID = DER //2\n",
        "\n",
        "    while (L[MID] != buscado):\n",
        "      if L[MID] > buscado:\n",
        "        DER = MID\n",
        "      else:\n",
        "        IZQ = MID\n",
        "      if (DER - IZQ) % 2 ==0:\n",
        "        MID = (IZQ + ((DER-IZQ//2))+1\n",
        "      else:\n",
        "        MID = IZQ + ((DER-IZQ)//2)\n",
        "     return MID\n",
        "\n",
        "def main():\n",
        "\n",
        "    datos = [ 4,18,47,2,34,14,78,12,48,21,31,19,1,3,5]\n",
        "    dato = int (input(\"Que valor quieres nbuscar: \"))\n",
        "    resultado = busq_Lineal(datos, dato)\n",
        "    print(\"Resultado: \",resultado)\n",
        "    print(\"Busqueda lineal en una lista ordenada\")\n",
        "    datos.sort()\n",
        "    print(datos)\n",
        "    resultado = busq_lineal (datos, dato)\n",
        "    print (\"resultado :\",resultado)\n",
        "\n",
        "    print(\"Busqueda binaria\")\n",
        "    posicion= busqueda_binaria(datos, dato)\n",
        "    print(f\"El elemento {dato] esta en la {posicion} de la lista\")\n",
        "\n",
        "\n",
        "\n",
        " main()   "
      ],
      "execution_count": 18,
      "outputs": [
        {
          "output_type": "error",
          "ename": "IndentationError",
          "evalue": "ignored",
          "traceback": [
            "\u001b[0;36m  File \u001b[0;32m\"<ipython-input-18-82db6889dc36>\"\u001b[0;36m, line \u001b[0;32m12\u001b[0m\n\u001b[0;31m    if L[idx] == buscado:\u001b[0m\n\u001b[0m    ^\u001b[0m\n\u001b[0;31mIndentationError\u001b[0m\u001b[0;31m:\u001b[0m unexpected indent\n"
          ]
        }
      ]
    }
  ]
}