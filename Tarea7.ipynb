{
  "nbformat": 4,
  "nbformat_minor": 0,
  "metadata": {
    "colab": {
      "name": "Tarea7.ipynb",
      "provenance": [],
      "collapsed_sections": [],
      "authorship_tag": "ABX9TyMIt6UY3/U6c+wws/QiOywg",
      "include_colab_link": true
    },
    "kernelspec": {
      "name": "python3",
      "display_name": "Python 3"
    }
  },
  "cells": [
    {
      "cell_type": "markdown",
      "metadata": {
        "id": "view-in-github",
        "colab_type": "text"
      },
      "source": [
        "<a href=\"https://colab.research.google.com/github/ismaelgarcia64/daa_2021_1/blob/master/Tarea7.ipynb\" target=\"_parent\"><img src=\"https://colab.research.google.com/assets/colab-badge.svg\" alt=\"Open In Colab\"/></a>"
      ]
    },
    {
      "cell_type": "code",
      "metadata": {
        "colab": {
          "base_uri": "https://localhost:8080/"
        },
        "id": "3ZOyUFFqri6d",
        "outputId": "cce0ab28-9385-4214-c8ea-0d52f2b3a5e2"
      },
      "source": [
        "def sumalista(listaNumeros):\n",
        "   if len(listaNumeros) == 1:\n",
        "        return listaNumeros[0]\n",
        "   else:\n",
        "        return listaNumeros[0] + sumalista(listaNumeros[1:])\n",
        "\n",
        "print(sumalista([1,2,3,4,5]))\n",
        "\n"
      ],
      "execution_count": 1,
      "outputs": [
        {
          "output_type": "stream",
          "text": [
            "15\n"
          ],
          "name": "stdout"
        }
      ]
    },
    {
      "cell_type": "code",
      "metadata": {
        "colab": {
          "base_uri": "https://localhost:8080/"
        },
        "id": "gaGwES1z48TT",
        "outputId": "ed8d321b-d858-476a-8711-690031faa44e"
      },
      "source": [
        "def conta(n):\n",
        "    print(n)\n",
        "    if n>0:\n",
        "         conta(n-1)\n",
        "print(conta(5))"
      ],
      "execution_count": 9,
      "outputs": [
        {
          "output_type": "stream",
          "text": [
            "5\n",
            "4\n",
            "3\n",
            "2\n",
            "1\n",
            "0\n",
            "None\n"
          ],
          "name": "stdout"
        }
      ]
    },
    {
      "cell_type": "code",
      "metadata": {
        "id": "pG_BCPwt_Emv"
      },
      "source": [
        "def pila(listA):\n",
        "  \n",
        "   if len(listA)<2:\n",
        "     return 0\n",
        "   else:\n",
        "     position=len(listA)//2\n",
        "     listA.pop(position)\n",
        "     print(listA)\n",
        "     pila(listA)\n"
      ],
      "execution_count": 33,
      "outputs": []
    },
    {
      "cell_type": "code",
      "metadata": {
        "colab": {
          "base_uri": "https://localhost:8080/",
          "height": 197
        },
        "id": "lKqzr5Vr8nwL",
        "outputId": "77ec128d-b377-40a5-b7cd-88e0c73a2086"
      },
      "source": [
        "def middle(list1):\n",
        "  listA=[1,2,3,4,5] \n",
        "  count=0\n",
        "  if (count == 0):\n",
        "     print(listA)\n",
        "     count+=1\n",
        "  mitad=len(list1)//2\n",
        "  print(\"borrar\"+srt(list1[len(list1)//2]))\n",
        "  listaA.pop(half)\n",
        "  mitad=0\n",
        "  print(list1)\n",
        "  if (len(list1)>=3):\n",
        "    mitad(list1)\n",
        "middle(listA)"
      ],
      "execution_count": 38,
      "outputs": [
        {
          "output_type": "error",
          "ename": "NameError",
          "evalue": "ignored",
          "traceback": [
            "\u001b[0;31m---------------------------------------------------------------------------\u001b[0m",
            "\u001b[0;31mNameError\u001b[0m                                 Traceback (most recent call last)",
            "\u001b[0;32m<ipython-input-38-984d256962e3>\u001b[0m in \u001b[0;36m<module>\u001b[0;34m()\u001b[0m\n\u001b[1;32m     12\u001b[0m   \u001b[0;32mif\u001b[0m \u001b[0;34m(\u001b[0m\u001b[0mlen\u001b[0m\u001b[0;34m(\u001b[0m\u001b[0mlist1\u001b[0m\u001b[0;34m)\u001b[0m\u001b[0;34m>=\u001b[0m\u001b[0;36m3\u001b[0m\u001b[0;34m)\u001b[0m\u001b[0;34m:\u001b[0m\u001b[0;34m\u001b[0m\u001b[0;34m\u001b[0m\u001b[0m\n\u001b[1;32m     13\u001b[0m     \u001b[0mmitad\u001b[0m\u001b[0;34m(\u001b[0m\u001b[0mlist1\u001b[0m\u001b[0;34m)\u001b[0m\u001b[0;34m\u001b[0m\u001b[0;34m\u001b[0m\u001b[0m\n\u001b[0;32m---> 14\u001b[0;31m \u001b[0mmiddle\u001b[0m\u001b[0;34m(\u001b[0m\u001b[0mlistA\u001b[0m\u001b[0;34m)\u001b[0m\u001b[0;34m\u001b[0m\u001b[0;34m\u001b[0m\u001b[0m\n\u001b[0m",
            "\u001b[0;31mNameError\u001b[0m: name 'listA' is not defined"
          ]
        }
      ]
    },
    {
      "cell_type": "code",
      "metadata": {
        "id": "Zad8gOc950Db"
      },
      "source": [
        ""
      ],
      "execution_count": null,
      "outputs": []
    }
  ]
}