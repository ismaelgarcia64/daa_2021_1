{
  "nbformat": 4,
  "nbformat_minor": 0,
  "metadata": {
    "colab": {
      "name": "5deOctubre.ipynb",
      "provenance": [],
      "authorship_tag": "ABX9TyMvDT7K9wPIOr2XRAnjuKqa",
      "include_colab_link": true
    },
    "kernelspec": {
      "name": "python3",
      "display_name": "Python 3"
    }
  },
  "cells": [
    {
      "cell_type": "markdown",
      "metadata": {
        "id": "view-in-github",
        "colab_type": "text"
      },
      "source": [
        "<a href=\"https://colab.research.google.com/github/ismaelgarcia64/daa_2021_1/blob/master/5deOctubre.ipynb\" target=\"_parent\"><img src=\"https://colab.research.google.com/assets/colab-badge.svg\" alt=\"Open In Colab\"/></a>"
      ]
    },
    {
      "cell_type": "markdown",
      "metadata": {
        "id": "ZlRYfSBaBrP8"
      },
      "source": [
        "#Estructura de datos Pila (Stack)\n",
        "-Last In first Out (LIFO)\n",
        "-De tipo lineal\n",
        "-Se pueden obtener e ingresar datos desde el tope\n",
        "-push para agregar\n",
        "-pop para cacar\n",
        "\n",
        "##Operaciones de las pilas\n",
        "1. is_empty (regresa true o false)\n",
        "1. get_top (regresa el elemento en el tope SIN SACARLO)\n",
        "1. pop (saca el elemento del tope y lo regresa)\n",
        "1. push (mete un elemento en el tope)\n",
        "1. get_length (regresa el número de elementos de la pila)"
      ]
    },
    {
      "cell_type": "code",
      "metadata": {
        "id": "Xd3G3C-pBln8"
      },
      "source": [
        "class Stack():\n",
        "      def __init__(self):\n",
        "         self.__datos= []\n",
        "\n",
        "      def is_empty(self):\n",
        "         return len(self.__datos)==0\n",
        "\n",
        "      def get_top(self):\n",
        "         return self.__datos[-1]\n",
        "\n",
        "      def pop(self):\n",
        "         return self.__datos.pop()\n",
        "\n",
        "      def push(self, valor):\n",
        "         self.__datos.append(valor)\n",
        "\n",
        "      def get_length(self):\n",
        "         return len(self.__datos)\n",
        "\n",
        "      def to_string(self):\n",
        "        print(\"|-------------|\")    \n",
        "        for x in self.__datos[::-1]:\n",
        "          print(f\"{x}\")\n",
        "        print(\"|-------------|\\n\")"
      ],
      "execution_count": 16,
      "outputs": []
    },
    {
      "cell_type": "code",
      "metadata": {
        "id": "mYAeOso9Fe3U",
        "outputId": "fd2285e8-bd5f-4ed7-a6a9-8af5c074e3d3",
        "colab": {
          "base_uri": "https://localhost:8080/"
        }
      },
      "source": [
        "pila1 = Stack()\n",
        "\n",
        "pila1.push(15)\n",
        "pila1.push(20)\n",
        "pila1.push(1)\n",
        "pila1.push(393)\n",
        "pila1.push(103)\n",
        "pila1.to_string()\n",
        "\n",
        "sacado = pila1.pop()\n",
        "print(sacado)\n",
        "pila1.to_string()\n",
        "\n",
        "\n",
        "pila1.push(444)\n",
        "pila1.push(233)\n",
        "pila1.to_string()\n",
        "\n",
        "\n",
        "print(f\"El elemento en el toipe es: {pila1.get_top() } \")\n",
        "pila1.to_string()\n",
        "print(f\"La pila tiene {pila1.get_length() } elementos\")\n",
        "print(f\"¿La pila esta vacia?: { pila1.is_empty() } \")\n",
        "\n"
      ],
      "execution_count": 17,
      "outputs": [
        {
          "output_type": "stream",
          "text": [
            "|-------------|\n",
            "103\n",
            "393\n",
            "1\n",
            "20\n",
            "15\n",
            "|-------------|\n",
            "\n",
            "103\n",
            "|-------------|\n",
            "393\n",
            "1\n",
            "20\n",
            "15\n",
            "|-------------|\n",
            "\n",
            "|-------------|\n",
            "233\n",
            "444\n",
            "393\n",
            "1\n",
            "20\n",
            "15\n",
            "|-------------|\n",
            "\n",
            "El elemento en el toipe es: 233 \n",
            "|-------------|\n",
            "233\n",
            "444\n",
            "393\n",
            "1\n",
            "20\n",
            "15\n",
            "|-------------|\n",
            "\n",
            "La pila tiene 6 elementos\n",
            "¿La pila esta vacia?: False \n"
          ],
          "name": "stdout"
        }
      ]
    },
    {
      "cell_type": "markdown",
      "metadata": {
        "id": "YZquWpjNO0IH"
      },
      "source": [
        "#Ejemplo de aplicacion de pilas\n",
        "\n",
        "Ejemplo de aplicacion de las pilas\n",
        "x = 4 + 5 + 6 + 3 x = 4 + (5 + 6) + 3\n",
        "\n",
        "x = 4 + 5+ 6) +3\n",
        "\n",
        "if (a == b)\n",
        "\n",
        "Reglas\n",
        "'(' ---> push('@')\n",
        "')' ---> pop()\n",
        "Si al final del recorrido la pila esta vacia, entonces la cadena es corecta. Si en un pop desencadena en querer sacar un elemento de la pila vacia, significa que la cadena no esta balanceada.\n",
        "\n",
        "Tarea\n",
        "Hacer un programa que valide el balalnceo de '{}','[]','{}'"
      ]
    }
  ]
}