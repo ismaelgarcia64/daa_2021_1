{
  "nbformat": 4,
  "nbformat_minor": 0,
  "metadata": {
    "colab": {
      "name": "Tarea10.ipynb",
      "provenance": [],
      "authorship_tag": "ABX9TyP6ilkC9wM4VhXnouyURUC2",
      "include_colab_link": true
    },
    "kernelspec": {
      "name": "python3",
      "display_name": "Python 3"
    }
  },
  "cells": [
    {
      "cell_type": "markdown",
      "metadata": {
        "id": "view-in-github",
        "colab_type": "text"
      },
      "source": [
        "<a href=\"https://colab.research.google.com/github/ismaelgarcia64/daa_2021_1/blob/master/Tarea10.ipynb\" target=\"_parent\"><img src=\"https://colab.research.google.com/assets/colab-badge.svg\" alt=\"Open In Colab\"/></a>"
      ]
    },
    {
      "cell_type": "code",
      "metadata": {
        "colab": {
          "base_uri": "https://localhost:8080/"
        },
        "id": "aY98ZHYi81Dk",
        "outputId": "71616551-0b32-4623-ca0e-5dfdaf4e2fff"
      },
      "source": [
        "class NodoArbol:\r\n",
        "  def __init__(self, value, left = None, right = None):\r\n",
        "    self.data = value\r\n",
        "    self.left = left\r\n",
        "    self.right = right\r\n",
        "\r\n",
        "  def fin(self, alfa):\r\n",
        "    if alfa == None:\r\n",
        "      return None\r\n",
        "    else:\r\n",
        "      self.fin(alfa.left)\r\n",
        "      self.fin(alfa.right)\r\n",
        "      if alfa.left == None and alfa.right == None:\r\n",
        "        print(\"Los nodos son:\", alfa.data)\r\n",
        "\r\n",
        "\r\n",
        "arbol = NodoArbol(4, NodoArbol(3, NodoArbol(2, NodoArbol(2))),NodoArbol(5))\r\n",
        "arbol.fin(arbol)"
      ],
      "execution_count": 8,
      "outputs": [
        {
          "output_type": "stream",
          "text": [
            "Los nodos son: 2\n",
            "Los nodos son: 5\n"
          ],
          "name": "stdout"
        }
      ]
    },
    {
      "cell_type": "code",
      "metadata": {
        "colab": {
          "base_uri": "https://localhost:8080/"
        },
        "id": "dVNO3bgj-lzl",
        "outputId": "60ea301a-c72f-488c-a796-6bd03d010585"
      },
      "source": [
        "arbol = NodoArbol(5, NodoArbol(4, NodoArbol(2, NodoArbol(7))),NodoArbol(5))\r\n",
        "arbol.fin(arbol)"
      ],
      "execution_count": 11,
      "outputs": [
        {
          "output_type": "stream",
          "text": [
            "Los nodos son: 7\n",
            "Los nodos son: 5\n"
          ],
          "name": "stdout"
        }
      ]
    },
    {
      "cell_type": "code",
      "metadata": {
        "colab": {
          "base_uri": "https://localhost:8080/"
        },
        "id": "-yuY_4V2-x1d",
        "outputId": "26ac513f-ccfa-4abb-a0f9-75a3e99e0423"
      },
      "source": [
        "arbol = NodoArbol(0, NodoArbol(1, NodoArbol(200, NodoArbol(76))),NodoArbol(2))\r\n",
        "arbol.fin(arbol)"
      ],
      "execution_count": 10,
      "outputs": [
        {
          "output_type": "stream",
          "text": [
            "Los nodos son: 76\n",
            "Los nodos son: 2\n"
          ],
          "name": "stdout"
        }
      ]
    },
    {
      "cell_type": "code",
      "metadata": {
        "colab": {
          "base_uri": "https://localhost:8080/"
        },
        "id": "tjxKj_17_RIT",
        "outputId": "b2984352-138a-40eb-ec75-c0cad1b8c905"
      },
      "source": [
        "arbol = NodoArbol(1, NodoArbol(4, NodoArbol(9, NodoArbol(1))),NodoArbol(3))\r\n",
        "arbol.fin(arbol)"
      ],
      "execution_count": 12,
      "outputs": [
        {
          "output_type": "stream",
          "text": [
            "Los nodos son: 1\n",
            "Los nodos son: 3\n"
          ],
          "name": "stdout"
        }
      ]
    }
  ]
}