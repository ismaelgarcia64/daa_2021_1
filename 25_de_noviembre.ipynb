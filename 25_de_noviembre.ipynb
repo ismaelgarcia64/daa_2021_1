{
  "nbformat": 4,
  "nbformat_minor": 0,
  "metadata": {
    "colab": {
      "name": "25 de noviembre.ipynb",
      "provenance": [],
      "collapsed_sections": [],
      "authorship_tag": "ABX9TyOgQLipS0xh3Lmwkad7FX+O",
      "include_colab_link": true
    },
    "kernelspec": {
      "name": "python3",
      "display_name": "Python 3"
    }
  },
  "cells": [
    {
      "cell_type": "markdown",
      "metadata": {
        "id": "view-in-github",
        "colab_type": "text"
      },
      "source": [
        "<a href=\"https://colab.research.google.com/github/ismaelgarcia64/daa_2021_1/blob/master/25_de_noviembre.ipynb\" target=\"_parent\"><img src=\"https://colab.research.google.com/assets/colab-badge.svg\" alt=\"Open In Colab\"/></a>"
      ]
    },
    {
      "cell_type": "code",
      "metadata": {
        "colab": {
          "base_uri": "https://localhost:8080/"
        },
        "id": "IsCcR2lp5OjP",
        "outputId": "6b6cdeb1-369c-48cb-eae3-75ed123e89d7"
      },
      "source": [
        "frase=\"\"\"El lema que anima a la Universidad Nacional, Por mi raza hablará el espíritu, revela la vocación humanística con la que fue concebida. El autor de esta célebre frase, José Vasconcelos, asumió la rectoría en 1920, en una época en que las esperanzas de la Revolución aún estaban vivas,\n",
        " había una gran fe en la Patria y el ánimo redentor se extendía en el ambiente.\"\"\"\n",
        "\n",
        "frase = frase.strip().replace(\"\\n\",\"\").replace(\",\",\"\").replace(\".\",\"\").lower().split(\" \")\n",
        "print(frase)\n",
        "frecuencias = {}\n",
        "for index in range(len(frase)):\n",
        "    if frase[index] in frecuencias: #'el' in frecuencias\n",
        "       pass\n",
        "    else:\n",
        "       frecuencias[frase[index]]=1\n",
        "       for pivote in range(index +1,len(frase),1): #frecuencias[el]=1    {el:1}\n",
        "      #print(frase[index], \"comparada contra:\" , frase[ pivote])\n",
        "           if frase[index]== frase[pivote]:\n",
        "              frecuencias[frase[index]]+=1\n",
        "print(frecuencias)"
      ],
      "execution_count": 14,
      "outputs": [
        {
          "output_type": "stream",
          "text": [
            "['el', 'lema', 'que', 'anima', 'a', 'la', 'universidad', 'nacional', 'por', 'mi', 'raza', 'hablará', 'el', 'espíritu', 'revela', 'la', 'vocación', 'humanística', 'con', 'la', 'que', 'fue', 'concebida', 'el', 'autor', 'de', 'esta', 'célebre', 'frase', 'josé', 'vasconcelos', 'asumió', 'la', 'rectoría', 'en', '1920', 'en', 'una', 'época', 'en', 'que', 'las', 'esperanzas', 'de', 'la', 'revolución', 'aún', 'estaban', 'vivas', 'había', 'una', 'gran', 'fe', 'en', 'la', 'patria', 'y', 'el', 'ánimo', 'redentor', 'se', 'extendía', 'en', 'el', 'ambiente']\n",
            "{'el': 5, 'lema': 1, 'que': 3, 'anima': 1, 'a': 1, 'la': 6, 'universidad': 1, 'nacional': 1, 'por': 1, 'mi': 1, 'raza': 1, 'hablará': 1, 'espíritu': 1, 'revela': 1, 'vocación': 1, 'humanística': 1, 'con': 1, 'fue': 1, 'concebida': 1, 'autor': 1, 'de': 2, 'esta': 1, 'célebre': 1, 'frase': 1, 'josé': 1, 'vasconcelos': 1, 'asumió': 1, 'rectoría': 1, 'en': 5, '1920': 1, 'una': 2, 'época': 1, 'las': 1, 'esperanzas': 1, 'revolución': 1, 'aún': 1, 'estaban': 1, 'vivas': 1, 'había': 1, 'gran': 1, 'fe': 1, 'patria': 1, 'y': 1, 'ánimo': 1, 'redentor': 1, 'se': 1, 'extendía': 1, 'ambiente': 1}\n"
          ],
          "name": "stdout"
        }
      ]
    },
    {
      "cell_type": "code",
      "metadata": {
        "colab": {
          "base_uri": "https://localhost:8080/"
        },
        "id": "0wLAEh8pFZRQ",
        "outputId": "5300d287-f9b4-4233-d3f1-0b0ea3329d99"
      },
      "source": [
        "frase=\"\"\"El lema que anima a la Universidad Nacional, Por mi raza hablará el espíritu, revela la vocación humanística con la que fue concebida. El autor de esta célebre frase, José Vasconcelos, asumió la rectoría en 1920, en una época en que las esperanzas de la Revolución aún estaban vivas,\n",
        " había una gran fe en la Patria y el ánimo redentor se extendía en el ambiente.\"\"\"\n",
        "frase = frase.strip().replace(\"\\n\",\"\").replace(\",\",\"\").replace(\".\",\"\").lower().split(\" \")\n",
        "print(frase)\n",
        "frecuencias = {}\n",
        "\n",
        "for index in range (len(frase)):\n",
        "    print(hash(frase[index]))\n",
        "    if frase[index] in frecuencias:\n",
        "       frecuencias[frase[index]]+=1\n",
        "    else:\n",
        "       frecuencias[frase[index]]=1\n",
        "print(frecuencias)"
      ],
      "execution_count": 16,
      "outputs": [
        {
          "output_type": "stream",
          "text": [
            "['el', 'lema', 'que', 'anima', 'a', 'la', 'universidad', 'nacional', 'por', 'mi', 'raza', 'hablará', 'el', 'espíritu', 'revela', 'la', 'vocación', 'humanística', 'con', 'la', 'que', 'fue', 'concebida', 'el', 'autor', 'de', 'esta', 'célebre', 'frase', 'josé', 'vasconcelos', 'asumió', 'la', 'rectoría', 'en', '1920', 'en', 'una', 'época', 'en', 'que', 'las', 'esperanzas', 'de', 'la', 'revolución', 'aún', 'estaban', 'vivas', 'había', 'una', 'gran', 'fe', 'en', 'la', 'patria', 'y', 'el', 'ánimo', 'redentor', 'se', 'extendía', 'en', 'el', 'ambiente']\n",
            "-8315443767912237767\n",
            "-6805843879082611020\n",
            "-5082447011904320182\n",
            "2630251974930725780\n",
            "4360819154178632634\n",
            "-8691664067034226742\n",
            "2192940666194465550\n",
            "7857732756945431089\n",
            "2422582080854981843\n",
            "7757681974031623133\n",
            "8928381964654259038\n",
            "4318290694078110428\n",
            "-8315443767912237767\n",
            "2622434972355360844\n",
            "-6208863747532949246\n",
            "-8691664067034226742\n",
            "6681430143938492128\n",
            "8971664834008709865\n",
            "-6093226568539336451\n",
            "-8691664067034226742\n",
            "-5082447011904320182\n",
            "-5098311579036283866\n",
            "8998172320579131799\n",
            "-8315443767912237767\n",
            "-6314342124191987018\n",
            "6073255141182430702\n",
            "-7306242568472730097\n",
            "6586745669534301330\n",
            "668921510403308741\n",
            "1166061898724947386\n",
            "830507147906823370\n",
            "7580729802690458047\n",
            "-8691664067034226742\n",
            "332595422288934162\n",
            "-8596437343116157613\n",
            "6832238166727858166\n",
            "-8596437343116157613\n",
            "2962251504071875753\n",
            "4962852569740758116\n",
            "-8596437343116157613\n",
            "-5082447011904320182\n",
            "-4915406078134479489\n",
            "-3346625510608272535\n",
            "6073255141182430702\n",
            "-8691664067034226742\n",
            "3182022564459761150\n",
            "6748632099436576947\n",
            "-6975761812429692421\n",
            "-9197093256657084127\n",
            "1914009080806034921\n",
            "2962251504071875753\n",
            "5186584835278332146\n",
            "-3340104046443605006\n",
            "-8596437343116157613\n",
            "-8691664067034226742\n",
            "-1292583796702232018\n",
            "6195154821552053922\n",
            "-8315443767912237767\n",
            "1350816162053004910\n",
            "5540353438690164865\n",
            "7581965340411913840\n",
            "4870935443395447817\n",
            "-8596437343116157613\n",
            "-8315443767912237767\n",
            "-5937950552561698788\n",
            "{'el': 5, 'lema': 1, 'que': 3, 'anima': 1, 'a': 1, 'la': 6, 'universidad': 1, 'nacional': 1, 'por': 1, 'mi': 1, 'raza': 1, 'hablará': 1, 'espíritu': 1, 'revela': 1, 'vocación': 1, 'humanística': 1, 'con': 1, 'fue': 1, 'concebida': 1, 'autor': 1, 'de': 2, 'esta': 1, 'célebre': 1, 'frase': 1, 'josé': 1, 'vasconcelos': 1, 'asumió': 1, 'rectoría': 1, 'en': 5, '1920': 1, 'una': 2, 'época': 1, 'las': 1, 'esperanzas': 1, 'revolución': 1, 'aún': 1, 'estaban': 1, 'vivas': 1, 'había': 1, 'gran': 1, 'fe': 1, 'patria': 1, 'y': 1, 'ánimo': 1, 'redentor': 1, 'se': 1, 'extendía': 1, 'ambiente': 1}\n"
          ],
          "name": "stdout"
        }
      ]
    }
  ]
}