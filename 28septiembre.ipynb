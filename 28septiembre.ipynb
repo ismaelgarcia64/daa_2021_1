{
  "nbformat": 4,
  "nbformat_minor": 0,
  "metadata": {
    "colab": {
      "name": "28septiembre.ipynb",
      "provenance": [],
      "authorship_tag": "ABX9TyPTR7qVofl6Ir/wwv5UAph4",
      "include_colab_link": true
    },
    "kernelspec": {
      "name": "python3",
      "display_name": "Python 3"
    }
  },
  "cells": [
    {
      "cell_type": "markdown",
      "metadata": {
        "id": "view-in-github",
        "colab_type": "text"
      },
      "source": [
        "<a href=\"https://colab.research.google.com/github/ismaelgarcia64/daa_2021_1/blob/master/28septiembre.ipynb\" target=\"_parent\"><img src=\"https://colab.research.google.com/assets/colab-badge.svg\" alt=\"Open In Colab\"/></a>"
      ]
    },
    {
      "cell_type": "code",
      "metadata": {
        "id": "J7eufMeECe2c"
      },
      "source": [
        ""
      ],
      "execution_count": null,
      "outputs": []
    },
    {
      "cell_type": "markdown",
      "metadata": {
        "id": "Ved1BTBHCyPx"
      },
      "source": [
        "Seccion 1"
      ]
    },
    {
      "cell_type": "markdown",
      "metadata": {
        "id": "i9InOJP3C6rH"
      },
      "source": [
        "En este archivoaprenderemos a programar en python con la herramienta Google research, tambien aprenderemos a guardar cambios a nuestro repositorio Github"
      ]
    },
    {
      "cell_type": "markdown",
      "metadata": {
        "id": "JqsYaMR0DxEx"
      },
      "source": [
        "## Código de ejemplo\n",
        "**negritas**\n",
        "_italica_\n",
        "`edad = 10\n",
        " print (edad)\n",
        "`"
      ]
    },
    {
      "cell_type": "code",
      "metadata": {
        "id": "o9i84HQ2GfW4",
        "outputId": "56d3089a-b178-4fa6-cf0e-c604759b3d05",
        "colab": {
          "base_uri": "https://localhost:8080/",
          "height": 35
        }
      },
      "source": [
        "frutas = []\n",
        "frutas.append('Manzana')\n",
        "frutas.append('Piña')\n",
        "frutas.append('Kiwi')\n",
        "\n",
        "print(frutas)"
      ],
      "execution_count": 1,
      "outputs": [
        {
          "output_type": "stream",
          "text": [
            "['Manzana', 'Piña', 'Kiwi']\n"
          ],
          "name": "stdout"
        }
      ]
    },
    {
      "cell_type": "code",
      "metadata": {
        "id": "zAgzHwqwHrrm"
      },
      "source": [
        "archivo= open('prueba_daa.txt','wt')\n",
        "archivo.write(\"Hola mundo Jupyter\")\n",
        "archivo.close()"
      ],
      "execution_count": 5,
      "outputs": []
    }
  ]
}