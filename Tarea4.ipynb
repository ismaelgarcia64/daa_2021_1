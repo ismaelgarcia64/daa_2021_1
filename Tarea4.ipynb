{
  "nbformat": 4,
  "nbformat_minor": 0,
  "metadata": {
    "colab": {
      "name": "Untitled3.ipynb",
      "provenance": [],
      "authorship_tag": "ABX9TyOCZiywmBuxvCGhIlESWf+x",
      "include_colab_link": true
    },
    "kernelspec": {
      "name": "python3",
      "display_name": "Python 3"
    }
  },
  "cells": [
    {
      "cell_type": "markdown",
      "metadata": {
        "id": "view-in-github",
        "colab_type": "text"
      },
      "source": [
        "<a href=\"https://colab.research.google.com/github/ismaelgarcia64/daa_2021_1/blob/master/Tarea4.ipynb\" target=\"_parent\"><img src=\"https://colab.research.google.com/assets/colab-badge.svg\" alt=\"Open In Colab\"/></a>"
      ]
    },
    {
      "cell_type": "markdown",
      "metadata": {
        "id": "sGGiByeY-yxI"
      },
      "source": [
        "![imagen.png](data:image/png;base64,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)"
      ]
    },
    {
      "cell_type": "markdown",
      "metadata": {
        "id": "Q27NFFxN_PE6"
      },
      "source": [
        ""
      ]
    },
    {
      "cell_type": "code",
      "metadata": {
        "id": "w6d_Nr2bnHfD",
        "outputId": "27bf7840-4a08-4a08-f4ab-e4fad661b473",
        "colab": {
          "base_uri": "https://localhost:8080/",
          "height": 127
        }
      },
      "source": [
        "  count = 0\n",
        "  i = 10\n",
        "  print(\"nivel 1\")\n",
        "  while i>=1:\n",
        "    count += 1\n",
        "    i = i //2\n",
        "    print(\"Nivel 2\")\n",
        "    \n",
        "  basura = 3+2\n",
        "  print(count)"
      ],
      "execution_count": 13,
      "outputs": [
        {
          "output_type": "stream",
          "text": [
            "nivel 1\n",
            "Nivel 2\n",
            "Nivel 2\n",
            "Nivel 2\n",
            "Nivel 2\n",
            "4\n"
          ],
          "name": "stdout"
        }
      ]
    },
    {
      "cell_type": "markdown",
      "metadata": {
        "id": "JLn25zRD-kdN"
      },
      "source": [
        ""
      ]
    }
  ]
}