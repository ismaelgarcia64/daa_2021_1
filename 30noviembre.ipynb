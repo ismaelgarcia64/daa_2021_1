{
  "nbformat": 4,
  "nbformat_minor": 0,
  "metadata": {
    "colab": {
      "name": "30noviembre.ipynb",
      "provenance": [],
      "collapsed_sections": [],
      "authorship_tag": "ABX9TyOMIaDNLxfxbJyU3NolkUba",
      "include_colab_link": true
    },
    "kernelspec": {
      "name": "python3",
      "display_name": "Python 3"
    }
  },
  "cells": [
    {
      "cell_type": "markdown",
      "metadata": {
        "id": "view-in-github",
        "colab_type": "text"
      },
      "source": [
        "<a href=\"https://colab.research.google.com/github/ismaelgarcia64/daa_2021_1/blob/master/30noviembre.ipynb\" target=\"_parent\"><img src=\"https://colab.research.google.com/assets/colab-badge.svg\" alt=\"Open In Colab\"/></a>"
      ]
    },
    {
      "cell_type": "code",
      "metadata": {
        "colab": {
          "base_uri": "https://localhost:8080/"
        },
        "id": "VwpMbAiDny7W",
        "outputId": "0d980786-a876-4540-9c03-221ddcd03a45"
      },
      "source": [
        "A = \"AELASESLALSALSALSALSALSALASLSLSLSLSALALALALASALSALLSALAS\"\n",
        "P = \"LAS\"\n",
        "N = len(A)\n",
        "M = len(P)\n",
        "def fuerza_bruta( A , P ):\n",
        "    for i in range( N-M+1):\n",
        "        for j in range(M):\n",
        "            if A[i+j] != P[j]:\n",
        "               break\n",
        "            else:\n",
        "               pass\n",
        "        if j+1  == M and A[ i + j] == P[j]:\n",
        "            print(\"Encontrado en la posicion: \",i)     \n",
        "fuerza_bruta(A,P)\n",
        "#O[ (N-M) * M) ]\n"
      ],
      "execution_count": 2,
      "outputs": [
        {
          "output_type": "stream",
          "text": [
            "Encontrado en la posicion:  2\n",
            "Encontrado en la posicion:  24\n",
            "Encontrado en la posicion:  42\n",
            "Encontrado en la posicion:  53\n"
          ],
          "name": "stdout"
        }
      ]
    }
  ]
}