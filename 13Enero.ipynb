{
  "nbformat": 4,
  "nbformat_minor": 0,
  "metadata": {
    "colab": {
      "name": "13Enero.ipynb",
      "provenance": [],
      "authorship_tag": "ABX9TyO2iq8JhIEAFX0BpZ3MuXX8",
      "include_colab_link": true
    },
    "kernelspec": {
      "name": "python3",
      "display_name": "Python 3"
    }
  },
  "cells": [
    {
      "cell_type": "markdown",
      "metadata": {
        "id": "view-in-github",
        "colab_type": "text"
      },
      "source": [
        "<a href=\"https://colab.research.google.com/github/ismaelgarcia64/daa_2021_1/blob/master/13Enero.ipynb\" target=\"_parent\"><img src=\"https://colab.research.google.com/assets/colab-badge.svg\" alt=\"Open In Colab\"/></a>"
      ]
    },
    {
      "cell_type": "code",
      "metadata": {
        "id": "vgWIqL-AZNcX"
      },
      "source": [
        "class NodoArbol:\r\n",
        "    def __init__( self , dato ,  hijo_izq=None , hijo_der=None):\r\n",
        "        self.dato = dato\r\n",
        "        self.left = hijo_izq\r\n",
        "        self.right = hijo_der"
      ],
      "execution_count": 1,
      "outputs": []
    },
    {
      "cell_type": "code",
      "metadata": {
        "id": "SpD0xx5QTO93"
      },
      "source": [
        "class BinarySearchTree:\r\n",
        "    def _init_( self ):\r\n",
        "        self._root =None\r\n",
        "    \r\n",
        "    def insert( self , value):\r\n",
        "        if self._root == None:\r\n",
        "             self._root = NodoArbol(value,None,None)\r\n",
        "        else:\r\n",
        "          #preguntar si value es menor que root, de ser el caso\r\n",
        "          #insertar a la izq. pero... Puede ser el caso que el\r\n",
        "          #sub árbol izq ya tenga muchos elementos...\r\n",
        "           self._insert_nodo_( self._root , value )\r\n",
        "\r\n",
        "    def _insert_nodo_( self , nodo , value ):\r\n",
        "        if nodo.dato == value:\r\n",
        "             pass\r\n",
        "        elif value < nodo.dato: # true va a la izq\r\n",
        "            if nodo.left == None: #si hay espacio en la izq, ahí va\r\n",
        "                 nodo.left = NodoArbol(value, None,None) #insertamos el nodo\r\n",
        "            else:\r\n",
        "                 self._insert_nodo_( nodo.left , value )# buscar en sub arbol izq\r\n",
        "        else:\r\n",
        "              if nodo.right ==None:\r\n",
        "                  nodo.right =NodoArbol(Value, None , None)\r\n",
        "              else:\r\n",
        "                 self._insert_nodo_( nodo.right , value )#buscar en sub arbol der"
      ],
      "execution_count": 6,
      "outputs": []
    },
    {
      "cell_type": "code",
      "metadata": {
        "id": "dLXfrNQKbrdK"
      },
      "source": [
        "bst=BinarySearchTree()\r\n",
        "bst.insert(50)\r\n",
        "bst.insert(30)\r\n",
        "bst.insert(20)\r\n",
        "bst.insert(30) #true o false"
      ],
      "execution_count": null,
      "outputs": []
    }
  ]
}