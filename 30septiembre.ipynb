{
  "nbformat": 4,
  "nbformat_minor": 0,
  "metadata": {
    "colab": {
      "name": "30septiembre.ipynb",
      "provenance": [],
      "collapsed_sections": [],
      "authorship_tag": "ABX9TyO7kvqnTg1VHkKAQQwaOg6W",
      "include_colab_link": true
    },
    "kernelspec": {
      "name": "python3",
      "display_name": "Python 3"
    }
  },
  "cells": [
    {
      "cell_type": "markdown",
      "metadata": {
        "id": "view-in-github",
        "colab_type": "text"
      },
      "source": [
        "<a href=\"https://colab.research.google.com/github/ismaelgarcia64/daa_2021_1/blob/master/30septiembre.ipynb\" target=\"_parent\"><img src=\"https://colab.research.google.com/assets/colab-badge.svg\" alt=\"Open In Colab\"/></a>"
      ]
    },
    {
      "cell_type": "markdown",
      "metadata": {
        "id": "3EgveLHcQO8n"
      },
      "source": [
        "#Palindromo\n",
        "Es una palabara que se lee de igual forma en un sentido y otro, ejemplo:\n",
        "1. Sugus\n",
        "1. oso\n",
        "1. reconocer\n",
        "2. 10101\n",
        "etc\n",
        "\n",
        "### Plantamiento del problema\n",
        "Se desea encontrar todos los palindromos que existen en la franja horaria de un día completo las 00:00 y como horario final las  23:59 horas.\n",
        "\n",
        "El algoritmo debe mostrar en pantalla todos los palindromos existentes en ese rango, al final debe mostrar el conteo de total de palindromos existentes. "
      ]
    },
    {
      "cell_type": "code",
      "metadata": {
        "id": "nXcofw_EP_IX",
        "outputId": "30c1aa64-0861-4e27-d53a-c7afe86ce347",
        "colab": {
          "base_uri": "https://localhost:8080/",
          "height": 135
        }
      },
      "source": [
        "\n",
        "\n",
        "from datetime import datetime\n",
        "igual, aux = 0, 0\n",
        "\n",
        "now = datetime.now(\n",
        "    texto=input.now.hour\n",
        "\n",
        "for ind in reversed(range(0, len(texto))):\n",
        "  if texto[ind].lower() == texto[aux].lower():\n",
        "    igual += 1\n",
        "  aux += 1\n",
        "if len(texto) == igual:\n",
        "  print(texto)\n",
        "\n"
      ],
      "execution_count": null,
      "outputs": [
        {
          "output_type": "error",
          "ename": "SyntaxError",
          "evalue": "ignored",
          "traceback": [
            "\u001b[0;36m  File \u001b[0;32m\"<ipython-input-17-d2609c9ab3eb>\"\u001b[0;36m, line \u001b[0;32m8\u001b[0m\n\u001b[0;31m    for ind in reversed(range(0, len(texto))):\u001b[0m\n\u001b[0m      ^\u001b[0m\n\u001b[0;31mSyntaxError\u001b[0m\u001b[0;31m:\u001b[0m invalid syntax\n"
          ]
        }
      ]
    }
  ]
}