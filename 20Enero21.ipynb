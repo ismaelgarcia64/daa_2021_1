{
  "nbformat": 4,
  "nbformat_minor": 0,
  "metadata": {
    "colab": {
      "name": "20Enero21.ipynb",
      "provenance": [],
      "authorship_tag": "ABX9TyMgVeR/PSXRCxdIv6I6jafh",
      "include_colab_link": true
    },
    "kernelspec": {
      "name": "python3",
      "display_name": "Python 3"
    }
  },
  "cells": [
    {
      "cell_type": "markdown",
      "metadata": {
        "id": "view-in-github",
        "colab_type": "text"
      },
      "source": [
        "<a href=\"https://colab.research.google.com/github/ismaelgarcia64/daa_2021_1/blob/master/20Enero21.ipynb\" target=\"_parent\"><img src=\"https://colab.research.google.com/assets/colab-badge.svg\" alt=\"Open In Colab\"/></a>"
      ]
    },
    {
      "cell_type": "code",
      "metadata": {
        "id": "lz8UOSSOZFUw"
      },
      "source": [
        "class NodoArbol:\r\n",
        "  def __init__(self, value, left=None, right=None):\r\n",
        "    self.data=value\r\n",
        "    self.left=left\r\n",
        "    self.right=right"
      ],
      "execution_count": 1,
      "outputs": []
    },
    {
      "cell_type": "code",
      "metadata": {
        "id": "9r-BFPP6coMz"
      },
      "source": [
        "class BinarySearchTree:\r\n",
        "\r\n",
        "  def __init__(self):\r\n",
        "    self.__root=None\r\n",
        "\r\n",
        "  def insert(self, value):\r\n",
        "    if self.__root==None:\r\n",
        "       self.__root= NodoArbol(value,None,None)\r\n",
        "    else:\r\n",
        "      #preguntar si value es menor que root, de ser el caso\r\n",
        "      #insertar a la izq, pero puede ser el caso de que el \r\n",
        "      #sub arbol izq ya tenga muchos elementos\r\n",
        "      self._insert_nodo_(self.__root,value)\r\n",
        "  \r\n",
        "  def _insert_nodo_(self,nodo,value):\r\n",
        "    if nodo.data==value:\r\n",
        "      pass\r\n",
        "    elif value<nodo.data: #true va a la izq\r\n",
        "      if nodo.left==None: #si hay espacio en la izq, ahi va\r\n",
        "        nodo.left=NodoArbol(value,None,None)#insertamos el nodo\r\n",
        "      else: \r\n",
        "        self._insert_nodo_(nodo.left,value)#buscar el sub arbol izq\r\n",
        "    else:\r\n",
        "      if nodo.right==None:\r\n",
        "        nodo.right=NodoArbol(value,None,None)\r\n",
        "      else:\r\n",
        "        self._insert_nodo_(nodo.right,value)##buscar en sub arbol der\r\n",
        "  \r\n",
        "  def buscar(self, value):\r\n",
        "     if self.__root==None:\r\n",
        "       return None\r\n",
        "     else:\r\n",
        "       #haremos busqueda recursiva\r\n",
        "       return self.__busca_nodo(self.__root,value)\r\n",
        "  \r\n",
        "  def __busca_nodo(self,nodo,value):\r\n",
        "     if nodo ==None:\r\n",
        "       return None\r\n",
        "     elif nodo.data==value:\r\n",
        "       return nodo.data\r\n",
        "     elif value< nodo.data:\r\n",
        "       return self.__busca_nodo(nodo.left,value)\r\n",
        "     else:\r\n",
        "       return self.__busca_nodo(nodo.right,value) \r\n",
        "  \r\n",
        "  def transversal(self,format=\"inorden\"):\r\n",
        "    if format ==\"inorden\":\r\n",
        "      self.__recorrido_in(self.__root)\r\n",
        "    elif format==\"preorden\":\r\n",
        "      self.__recorrido_pre(self.__root)\r\n",
        "    elif format ==\"posorden\":\r\n",
        "      self.__recorrido_pos(self.__root)\r\n",
        "    else:\r\n",
        "      print(\"Fotmato de recorrido no valido\")\r\n",
        "  \r\n",
        "  def __recorrido_pre(self, nodo):\r\n",
        "    if nodo != None:\r\n",
        "      print(nodo.data, end=\",\")\r\n",
        "      self.__recorrido_pre(nodo.left)\r\n",
        "      self.__recorrido_pre(nodo.right)\r\n",
        "  \r\n",
        "  def __recorrido_in(self, nodo):\r\n",
        "    if nodo != None:\r\n",
        "      self.__recorrido_in(nodo.left)\r\n",
        "      print(nodo.dato, end=\",\")\r\n",
        "      self.__recorrido_in(nodo.right)\r\n",
        "  \r\n",
        "  def __recorrido_pos(self, nodo):\r\n",
        "    if nodo!= None:\r\n",
        "      self.__recorrido_pos(nodo.left)\r\n",
        "      self.__recorrido_pos(nodo.right)\r\n",
        "      print(nodo.dato, end=\",\")"
      ],
      "execution_count": 2,
      "outputs": []
    },
    {
      "cell_type": "code",
      "metadata": {
        "colab": {
          "base_uri": "https://localhost:8080/",
          "height": 350
        },
        "id": "i5vEG-IPct2O",
        "outputId": "b6531bf8-bcc1-4783-e8b8-fa83421be5ab"
      },
      "source": [
        "bst=BinarySearchTree()\r\n",
        "bst.insert(50)\r\n",
        "bst.insert(30)\r\n",
        "bst.insert(20)\r\n",
        "res=bst.buscar(30)#true o false?\r\n",
        "print(\"Dato:\"+ str(res))\r\n",
        "print(bst.buscar(40))\r\n",
        "print(\"recorrido:\")\r\n",
        "bst.transversal(format=\"preorden\")\r\n",
        "print(\"recorrido in orden:\")"
      ],
      "execution_count": 3,
      "outputs": [
        {
          "output_type": "error",
          "ename": "AttributeError",
          "evalue": "ignored",
          "traceback": [
            "\u001b[0;31m---------------------------------------------------------------------------\u001b[0m",
            "\u001b[0;31mAttributeError\u001b[0m                            Traceback (most recent call last)",
            "\u001b[0;32m<ipython-input-3-cc6efc821425>\u001b[0m in \u001b[0;36m<module>\u001b[0;34m()\u001b[0m\n\u001b[1;32m      1\u001b[0m \u001b[0mbst\u001b[0m\u001b[0;34m=\u001b[0m\u001b[0mBinarySearchTree\u001b[0m\u001b[0;34m(\u001b[0m\u001b[0;34m)\u001b[0m\u001b[0;34m\u001b[0m\u001b[0;34m\u001b[0m\u001b[0m\n\u001b[0;32m----> 2\u001b[0;31m \u001b[0mbst\u001b[0m\u001b[0;34m.\u001b[0m\u001b[0minsert\u001b[0m\u001b[0;34m(\u001b[0m\u001b[0;36m50\u001b[0m\u001b[0;34m)\u001b[0m\u001b[0;34m\u001b[0m\u001b[0;34m\u001b[0m\u001b[0m\n\u001b[0m\u001b[1;32m      3\u001b[0m \u001b[0mbst\u001b[0m\u001b[0;34m.\u001b[0m\u001b[0minsert\u001b[0m\u001b[0;34m(\u001b[0m\u001b[0;36m30\u001b[0m\u001b[0;34m)\u001b[0m\u001b[0;34m\u001b[0m\u001b[0;34m\u001b[0m\u001b[0m\n\u001b[1;32m      4\u001b[0m \u001b[0mbst\u001b[0m\u001b[0;34m.\u001b[0m\u001b[0minsert\u001b[0m\u001b[0;34m(\u001b[0m\u001b[0;36m20\u001b[0m\u001b[0;34m)\u001b[0m\u001b[0;34m\u001b[0m\u001b[0;34m\u001b[0m\u001b[0m\n\u001b[1;32m      5\u001b[0m \u001b[0mres\u001b[0m \u001b[0;34m=\u001b[0m \u001b[0mbst\u001b[0m\u001b[0;34m.\u001b[0m\u001b[0mbuscar\u001b[0m\u001b[0;34m(\u001b[0m\u001b[0;36m30\u001b[0m\u001b[0;34m)\u001b[0m\u001b[0;34m\u001b[0m\u001b[0;34m\u001b[0m\u001b[0m\n",
            "\u001b[0;32m<ipython-input-2-bd481df7331c>\u001b[0m in \u001b[0;36minsert\u001b[0;34m(self, value)\u001b[0m\n\u001b[1;32m      4\u001b[0m \u001b[0;34m\u001b[0m\u001b[0m\n\u001b[1;32m      5\u001b[0m   \u001b[0;32mdef\u001b[0m \u001b[0minsert\u001b[0m\u001b[0;34m(\u001b[0m\u001b[0mself\u001b[0m\u001b[0;34m,\u001b[0m \u001b[0mvalue\u001b[0m\u001b[0;34m)\u001b[0m\u001b[0;34m:\u001b[0m\u001b[0;34m\u001b[0m\u001b[0;34m\u001b[0m\u001b[0m\n\u001b[0;32m----> 6\u001b[0;31m     \u001b[0;32mif\u001b[0m \u001b[0mself\u001b[0m\u001b[0;34m.\u001b[0m\u001b[0m__root\u001b[0m \u001b[0;34m==\u001b[0m \u001b[0;32mNone\u001b[0m\u001b[0;34m:\u001b[0m\u001b[0;34m\u001b[0m\u001b[0;34m\u001b[0m\u001b[0m\n\u001b[0m\u001b[1;32m      7\u001b[0m       \u001b[0mself\u001b[0m\u001b[0;34m.\u001b[0m\u001b[0m__root\u001b[0m \u001b[0;34m=\u001b[0m \u001b[0mNodoArbol\u001b[0m\u001b[0;34m(\u001b[0m\u001b[0mvalue\u001b[0m\u001b[0;34m,\u001b[0m \u001b[0;32mNone\u001b[0m\u001b[0;34m,\u001b[0m \u001b[0;32mNone\u001b[0m\u001b[0;34m)\u001b[0m\u001b[0;34m\u001b[0m\u001b[0;34m\u001b[0m\u001b[0m\n\u001b[1;32m      8\u001b[0m \u001b[0;34m\u001b[0m\u001b[0m\n",
            "\u001b[0;31mAttributeError\u001b[0m: 'BinarySearchTree' object has no attribute '_BinarySearchTree__root'"
          ]
        }
      ]
    }
  ]
}